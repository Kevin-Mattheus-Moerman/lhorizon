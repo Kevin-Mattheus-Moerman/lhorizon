{
 "cells": [
  {
   "cell_type": "code",
   "execution_count": null,
   "metadata": {},
   "outputs": [],
   "source": [
    "from lhorizon import construct_bulk_horizon_query, fetch_bulk_pointing_table"
   ]
  },
  {
   "cell_type": "code",
   "execution_count": null,
   "metadata": {
    "pycharm": {
     "name": "#%%\n"
    }
   },
   "outputs": [],
   "source": [
    "# defining position, time span, and so on\n",
    "\n",
    "# what is the body center of the observing location?\n",
    "mars_horizons_id = '499'\n",
    "observer_body_id = mars_horizons_id\n",
    "\n",
    "# what is the topocentric location relative to that body center?\n",
    "observer_latitude = 18.4\n",
    "# note that Horizons always treats east-longitude as\n",
    "# negative for Mars and other prograde bodies\n",
    "# *except* the Earth, Moon, and Sun\n",
    "observer_longitude = -77.5\n",
    "observer_elevation = 0\n",
    "\n",
    "# what is the observer looking at?\n",
    "# (this can also target topocentric sites on the target body,\n",
    "# but the syntax is somewhat different. obviously this is\n",
    "# not important in this particular application.)\n",
    "sun_horizons_id = '10'\n",
    "target_body_id = sun_horizons_id\n",
    "\n",
    "# start time, stop time, and observation interval\n",
    "start = '2020-01-01T00:00:00'\n",
    "stop = '2023-02-01T00:00:00'\n",
    "# this can be 's', 'm', 'h', 'd', 'y' for fixed time intervals;\n",
    "# alternatively, just an integer will give a number of intervals\n",
    "# equal to (start time - stop_time) / step.\n",
    "step = \"5m\""
   ]
  },
  {
   "cell_type": "code",
   "execution_count": null,
   "metadata": {
    "pycharm": {
     "name": "#%%\n"
    }
   },
   "outputs": [],
   "source": [
    "# make a bunch of horizons requests at palatable-to-horizons sizes.\n",
    "# parenthetically, we're actually requesting all the quantities here --\n",
    "# for whatever reason, horizons isn't particularly faster when you don't,\n",
    "# so we don't bother restricting at this step.\n",
    "bulk_query = construct_bulk_horizon_query(\n",
    "    target_body_id,\n",
    "    observer_longitude,\n",
    "    observer_latitude,\n",
    "    observer_elevation,\n",
    "    observer_body_id,\n",
    "    start,\n",
    "    stop,\n",
    "    step\n",
    ")"
   ]
  },
  {
   "cell_type": "code",
   "execution_count": null,
   "metadata": {
    "pycharm": {
     "name": "#%%\n"
    }
   },
   "outputs": [],
   "source": [
    "%%time\n",
    "# fetch the data and concatenate it into a pandas dataframe\n",
    "pointing_table = fetch_bulk_pointing_table(bulk_query)"
   ]
  },
  {
   "cell_type": "code",
   "execution_count": null,
   "metadata": {
    "pycharm": {
     "name": "#%%\n"
    }
   },
   "outputs": [],
   "source": [
    "# horizons bulk queries don't do well with the 'only when object is visible'\n",
    "# flags, so we handle it here\n",
    "daylight_only = pointing_table.loc[pointing_table['alt'] > 0]\n",
    "# reduce to the quantities of interest\n",
    "solar_angle_table = daylight_only[['time', 'az', 'alt']]"
   ]
  },
  {
   "cell_type": "code",
   "execution_count": null,
   "metadata": {
    "pycharm": {
     "name": "#%%\n"
    }
   },
   "outputs": [],
   "source": [
    "# write out to csv\n",
    "solar_angle_table.to_csv(\n",
    "    \"solar_angle_table \" + start + \" to \" + stop + \".csv\",\n",
    "    index=None\n",
    ")\n"
   ]
  }
 ],
 "metadata": {
  "kernelspec": {
   "display_name": "Python 3",
   "language": "python",
   "name": "python3"
  },
  "language_info": {
   "codemirror_mode": {
    "name": "ipython",
    "version": 3
   },
   "file_extension": ".py",
   "mimetype": "text/x-python",
   "name": "python",
   "nbconvert_exporter": "python",
   "pygments_lexer": "ipython3",
   "version": "3.9.4"
  }
 },
 "nbformat": 4,
 "nbformat_minor": 1
}
