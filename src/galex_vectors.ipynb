{
 "cells": [
  {
   "cell_type": "code",
   "execution_count": null,
   "metadata": {},
   "outputs": [],
   "source": [
    "from LHorizons import LHorizons"
   ]
  },
  {
   "cell_type": "code",
   "execution_count": null,
   "metadata": {
    "pycharm": {
     "name": "#%%\n"
    }
   },
   "outputs": [],
   "source": [
    "# horizons code for the SSB\n",
    "solar_system_barycenter = '500@0'\n",
    "coordinate_origin = solar_system_barycenter\n",
    "# horizons code for GALEX\n",
    "galex_horizons_id = -127783\n",
    "target_body_id = galex_horizons_id\n",
    "# note that these times are in TDB\n",
    "start = '2003-05-01T00:00:00'\n",
    "stop = '2003-05-15T01:00:00'\n",
    "step = \"5m\""
   ]
  },
  {
   "cell_type": "code",
   "execution_count": null,
   "metadata": {},
   "outputs": [],
   "source": [
    "# make an LHorizons object with these values.\n",
    "# if you'd like to do larger queries -- ones with more than about 70K rows -- take a look at\n",
    "# the bulk query functions in this library.\n",
    "galex_icrf = LHorizons(\n",
    "    target_body_id,\n",
    "    coordinate_origin,\n",
    "    epochs = {\n",
    "        'start': start,\n",
    "        'stop': stop,\n",
    "        'step': step\n",
    "    },\n",
    "    query_type='VECTORS'\n",
    ")\n",
    "# fetch these data and concatenate them into a pandas dataframe.\n",
    "vector_table = galex_icrf.table()\n",
    "\n",
    "# these are ICRF of the most conventional kind -- measured from the solar system barycenter,\n",
    "# geometric states uncorrected for light time or stellar aberration (though light time is, as you see,\n",
    "# reported)\n",
    "\n",
    "#       X      X-component of position vector (km)\n",
    "#       Y      Y-component of position vector (km)\n",
    "#       Z      Z-component of position vector (km)\n",
    "#       LT     One-way down-leg Newtonian light-time (sec)\n",
    "#       RG     Range; distance from coordinate center (km)\n",
    "#       RR     Range-rate; radial velocity wrt coord. center (km/sec)"
   ]
  },
  {
   "cell_type": "code",
   "execution_count": null,
   "metadata": {
    "pycharm": {
     "name": "#%%\n"
    }
   },
   "outputs": [],
   "source": [
    "# write out to csv\n",
    "vector_table.to_csv(\n",
    "    \"vector_table \" + start + \" to \" + stop + \".csv\",\n",
    "    index=None\n",
    ")"
   ]
  }
 ],
 "metadata": {
  "kernelspec": {
   "display_name": "Python 3",
   "language": "python",
   "name": "python3"
  },
  "language_info": {
   "codemirror_mode": {
    "name": "ipython",
    "version": 3
   },
   "file_extension": ".py",
   "mimetype": "text/x-python",
   "name": "python",
   "nbconvert_exporter": "python",
   "pygments_lexer": "ipython3",
   "version": "3.9.2"
  }
 },
 "nbformat": 4,
 "nbformat_minor": 1
}
